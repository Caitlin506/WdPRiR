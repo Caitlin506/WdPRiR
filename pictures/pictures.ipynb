{
 "cells": [
  {
   "cell_type": "code",
   "execution_count": 1,
   "metadata": {},
   "outputs": [],
   "source": [
    "import requests\n",
    "from bs4 import BeautifulSoup\n",
    "import time\n",
    "from concurrent.futures import ProcessPoolExecutor, as_completed\n",
    "from PIL import Image\n",
    "from io import BytesIO\n",
    "from PIL import ImageFilter  "
   ]
  },
  {
   "cell_type": "code",
   "execution_count": 2,
   "metadata": {},
   "outputs": [
    {
     "name": "stdout",
     "output_type": "stream",
     "text": [
      "Status code =  200\n"
     ]
    }
   ],
   "source": [
    "req = requests.get('http://www.if.pw.edu.pl/~mrow/dyd/wdprir/')\n",
    "status = req.status_code\n",
    "print(\"Status code = \", status)"
   ]
  },
  {
   "cell_type": "code",
   "execution_count": 3,
   "metadata": {},
   "outputs": [],
   "source": [
    "soup = BeautifulSoup(req.text,'html.parser')\n",
    "pics = soup.find('body')"
   ]
  },
  {
   "cell_type": "code",
   "execution_count": 4,
   "metadata": {},
   "outputs": [
    {
     "name": "stdout",
     "output_type": "stream",
     "text": [
      "Sekwencyjnie bez blurowania: stop - start = 22.277342796325684\n"
     ]
    }
   ],
   "source": [
    "# Sekwencyjnie bez blurowania\n",
    "start = time.time()\n",
    "for p in pics.find_all('a'):\n",
    "    try:\n",
    "        reference = p['href']\n",
    "        name = p.text.strip()\n",
    "        if '.png' in name:\n",
    "            data = requests.get('http://www.if.pw.edu.pl/~mrow/dyd/wdprir/'+reference).content \n",
    "            f = open(name,'wb') \n",
    "            f.write(data) \n",
    "            f.close() \n",
    "    except:\n",
    "        pass\n",
    "\n",
    "stop = time.time()            \n",
    "print(f'Sekwencyjnie bez blurowania: {stop - start = }')"
   ]
  },
  {
   "cell_type": "code",
   "execution_count": 5,
   "metadata": {},
   "outputs": [],
   "source": [
    "# Równolegle bez blurowania\n"
   ]
  },
  {
   "cell_type": "code",
   "execution_count": 6,
   "metadata": {},
   "outputs": [
    {
     "name": "stdout",
     "output_type": "stream",
     "text": [
      "Sekwencyjnie z filrem gaussowskim: stop - start = 108.3416428565979\n"
     ]
    }
   ],
   "source": [
    "#sekwencyjnie z gaussianBlur\n",
    "start = time.time()\n",
    "for p in pics.find_all('a'):\n",
    "    try:\n",
    "        reference = p['href']\n",
    "        name = p.text.strip()\n",
    "        if '.png' in name:\n",
    "            data = requests.get('http://www.if.pw.edu.pl/~mrow/dyd/wdprir/'+reference).content\n",
    "            data_img = Image.open(BytesIO(data))\n",
    "  \n",
    "            image = data_img.filter(ImageFilter.Kernel(size=(3,3),kernel=(1/16, 1/8, 1/16, 1/8, 1/4, 1/8, 1/16, 1/8, 1/16)))\n",
    "            image.save(\"gauss_\"+name)          \n",
    "    except:\n",
    "        pass\n",
    "\n",
    "stop = time.time()            \n",
    "print(f'Sekwencyjnie z filrem gaussowskim: {stop - start = }')"
   ]
  },
  {
   "cell_type": "code",
   "execution_count": null,
   "metadata": {},
   "outputs": [],
   "source": []
  },
  {
   "cell_type": "code",
   "execution_count": null,
   "metadata": {},
   "outputs": [],
   "source": []
  },
  {
   "cell_type": "code",
   "execution_count": null,
   "metadata": {},
   "outputs": [],
   "source": []
  }
 ],
 "metadata": {
  "kernelspec": {
   "display_name": "base",
   "language": "python",
   "name": "python3"
  },
  "language_info": {
   "codemirror_mode": {
    "name": "ipython",
    "version": 3
   },
   "file_extension": ".py",
   "mimetype": "text/x-python",
   "name": "python",
   "nbconvert_exporter": "python",
   "pygments_lexer": "ipython3",
   "version": "3.8.5"
  }
 },
 "nbformat": 4,
 "nbformat_minor": 2
}
